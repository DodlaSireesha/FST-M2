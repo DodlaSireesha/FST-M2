{
 "cells": [
  {
   "cell_type": "markdown",
   "metadata": {},
   "source": [
    "# Spark Activity1\n"
   ]
  },
  {
   "cell_type": "code",
   "execution_count": 3,
   "metadata": {},
   "outputs": [
    {
     "name": "stderr",
     "output_type": "stream",
     "text": [
      "<>:12: SyntaxWarning: invalid escape sequence '\\s'\n",
      "<>:12: SyntaxWarning: invalid escape sequence '\\s'\n",
      "C:\\Users\\002W6F744\\AppData\\Local\\Temp\\ipykernel_1516\\181632890.py:12: SyntaxWarning: invalid escape sequence '\\s'\n",
      "  inputFile.select(explode(split(inputFile.value, '\\s+')).alias('word')).groupBy('word').count().show()\n"
     ]
    },
    {
     "name": "stdout",
     "output_type": "stream",
     "text": [
      "+--------+-----+\n",
      "|    word|count|\n",
      "+--------+-----+\n",
      "|    code|  535|\n",
      "| example| 1605|\n",
      "|      is| 1605|\n",
      "|    file|  535|\n",
      "|lineThis|    1|\n",
      "|      an| 1605|\n",
      "|    This| 1604|\n",
      "|        |  960|\n",
      "|    line|  534|\n",
      "+--------+-----+\n",
      "\n"
     ]
    }
   ],
   "source": [
    "\n",
    "import findspark\n",
    "from pyspark.sql import SparkSession\n",
    "from pyspark.sql.functions import *\n",
    "\n",
    "# Initialize spark driver\n",
    "findspark.init()\n",
    "spark = SparkSession.builder.master(\"local\").appName(\"FSTExample\").getOrCreate()\n",
    "\n",
    "# Find the word count from a text file\n",
    "inputFile = spark.read.text(\"simple_text.txt\")\n",
    "inputFile.select(explode(split(inputFile.value, '\\s+')).alias('word')).groupBy('word').count().show()"
   ]
  }
 ],
 "metadata": {
  "kernelspec": {
   "display_name": "Python 3",
   "language": "python",
   "name": "python3"
  },
  "language_info": {
   "codemirror_mode": {
    "name": "ipython",
    "version": 3
   },
   "file_extension": ".py",
   "mimetype": "text/x-python",
   "name": "python",
   "nbconvert_exporter": "python",
   "pygments_lexer": "ipython3",
   "version": "3.12.4"
  }
 },
 "nbformat": 4,
 "nbformat_minor": 2
}
